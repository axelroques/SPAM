{
 "cells": [
  {
   "cell_type": "code",
   "execution_count": 1,
   "id": "ba60d61b",
   "metadata": {},
   "outputs": [],
   "source": [
    "%load_ext autoreload\n",
    "from spam import SPAM\n",
    "\n",
    "import numpy as np"
   ]
  },
  {
   "cell_type": "markdown",
   "id": "6ff5efee",
   "metadata": {},
   "source": [
    "# Data"
   ]
  },
  {
   "cell_type": "code",
   "execution_count": 2,
   "id": "117ff91e",
   "metadata": {},
   "outputs": [
    {
     "data": {
      "text/plain": [
       "[array(['a2', 'a1', 'a0'], dtype='<U2'),\n",
       " array(['a0', 'a15'], dtype='<U3'),\n",
       " array(['a1', 'a2'], dtype='<U2')]"
      ]
     },
     "execution_count": 2,
     "metadata": {},
     "output_type": "execute_result"
    }
   ],
   "source": [
    "\n",
    "C = [\n",
    "    np.array(['a2', 'a1', 'a0']),\n",
    "    np.array(['a0', 'a15']),\n",
    "    np.array(['a1', 'a2'])\n",
    "]\n",
    "C"
   ]
  },
  {
   "cell_type": "markdown",
   "id": "7de3dbef",
   "metadata": {},
   "source": [
    "# SPAM"
   ]
  },
  {
   "cell_type": "code",
   "execution_count": 20,
   "id": "01c15299",
   "metadata": {},
   "outputs": [],
   "source": [
    "%autoreload\n",
    "\n",
    "spam = SPAM(C, min_sup=0.05)"
   ]
  },
  {
   "cell_type": "code",
   "execution_count": 21,
   "id": "fe16bbd3",
   "metadata": {},
   "outputs": [],
   "source": [
    "%autoreload\n",
    "\n",
    "spam.process()"
   ]
  },
  {
   "cell_type": "code",
   "execution_count": 22,
   "id": "6a3dab00",
   "metadata": {},
   "outputs": [
    {
     "data": {
      "text/html": [
       "<div>\n",
       "<style scoped>\n",
       "    .dataframe tbody tr th:only-of-type {\n",
       "        vertical-align: middle;\n",
       "    }\n",
       "\n",
       "    .dataframe tbody tr th {\n",
       "        vertical-align: top;\n",
       "    }\n",
       "\n",
       "    .dataframe thead th {\n",
       "        text-align: right;\n",
       "    }\n",
       "</style>\n",
       "<table border=\"1\" class=\"dataframe\">\n",
       "  <thead>\n",
       "    <tr style=\"text-align: right;\">\n",
       "      <th></th>\n",
       "      <th>Sequence</th>\n",
       "      <th>Support</th>\n",
       "    </tr>\n",
       "  </thead>\n",
       "  <tbody>\n",
       "    <tr>\n",
       "      <th>0</th>\n",
       "      <td>[[a0]]</td>\n",
       "      <td>0.285714</td>\n",
       "    </tr>\n",
       "    <tr>\n",
       "      <th>2</th>\n",
       "      <td>[[a1]]</td>\n",
       "      <td>0.285714</td>\n",
       "    </tr>\n",
       "    <tr>\n",
       "      <th>6</th>\n",
       "      <td>[[a2]]</td>\n",
       "      <td>0.285714</td>\n",
       "    </tr>\n",
       "    <tr>\n",
       "      <th>1</th>\n",
       "      <td>[[a0], [a15]]</td>\n",
       "      <td>0.142857</td>\n",
       "    </tr>\n",
       "    <tr>\n",
       "      <th>3</th>\n",
       "      <td>[[a1], [a0]]</td>\n",
       "      <td>0.142857</td>\n",
       "    </tr>\n",
       "    <tr>\n",
       "      <th>4</th>\n",
       "      <td>[[a1], [a2]]</td>\n",
       "      <td>0.142857</td>\n",
       "    </tr>\n",
       "    <tr>\n",
       "      <th>5</th>\n",
       "      <td>[[a15]]</td>\n",
       "      <td>0.142857</td>\n",
       "    </tr>\n",
       "    <tr>\n",
       "      <th>7</th>\n",
       "      <td>[[a2], [a0]]</td>\n",
       "      <td>0.142857</td>\n",
       "    </tr>\n",
       "    <tr>\n",
       "      <th>8</th>\n",
       "      <td>[[a2], [a1]]</td>\n",
       "      <td>0.142857</td>\n",
       "    </tr>\n",
       "    <tr>\n",
       "      <th>9</th>\n",
       "      <td>[[a2], [a1], [a0]]</td>\n",
       "      <td>0.142857</td>\n",
       "    </tr>\n",
       "  </tbody>\n",
       "</table>\n",
       "</div>"
      ],
      "text/plain": [
       "             Sequence   Support\n",
       "0              [[a0]]  0.285714\n",
       "2              [[a1]]  0.285714\n",
       "6              [[a2]]  0.285714\n",
       "1       [[a0], [a15]]  0.142857\n",
       "3        [[a1], [a0]]  0.142857\n",
       "4        [[a1], [a2]]  0.142857\n",
       "5             [[a15]]  0.142857\n",
       "7        [[a2], [a0]]  0.142857\n",
       "8        [[a2], [a1]]  0.142857\n",
       "9  [[a2], [a1], [a0]]  0.142857"
      ]
     },
     "execution_count": 22,
     "metadata": {},
     "output_type": "execute_result"
    }
   ],
   "source": [
    "spam.results()"
   ]
  },
  {
   "cell_type": "code",
   "execution_count": null,
   "id": "d22e8a4c",
   "metadata": {},
   "outputs": [],
   "source": []
  }
 ],
 "metadata": {
  "kernelspec": {
   "display_name": "Python 3",
   "language": "python",
   "name": "python3"
  },
  "language_info": {
   "codemirror_mode": {
    "name": "ipython",
    "version": 3
   },
   "file_extension": ".py",
   "mimetype": "text/x-python",
   "name": "python",
   "nbconvert_exporter": "python",
   "pygments_lexer": "ipython3",
   "version": "3.8.3"
  }
 },
 "nbformat": 4,
 "nbformat_minor": 5
}
