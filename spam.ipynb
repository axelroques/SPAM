{
 "cells": [
  {
   "cell_type": "code",
   "execution_count": 1,
   "id": "eaf6ed02",
   "metadata": {},
   "outputs": [],
   "source": [
    "%load_ext autoreload\n",
    "from spam import SPAM\n",
    "\n",
    "import numpy as np"
   ]
  },
  {
   "cell_type": "markdown",
   "id": "7c25b5fb",
   "metadata": {},
   "source": [
    "# Data"
   ]
  },
  {
   "cell_type": "code",
   "execution_count": 11,
   "id": "ef61956d",
   "metadata": {},
   "outputs": [
    {
     "data": {
      "text/plain": [
       "[array(['a2', 'a1', 'a0'], dtype='<U2'),\n",
       " array(['a0', 'a15'], dtype='<U3'),\n",
       " array(['a1', 'a2'], dtype='<U2')]"
      ]
     },
     "execution_count": 11,
     "metadata": {},
     "output_type": "execute_result"
    }
   ],
   "source": [
    "\n",
    "C = [\n",
    "    np.array(['a2', 'a1', 'a0']),\n",
    "    np.array(['a0', 'a15']),\n",
    "    np.array(['a1', 'a2'])\n",
    "]\n",
    "C"
   ]
  },
  {
   "cell_type": "markdown",
   "id": "26630a3c",
   "metadata": {},
   "source": [
    "# SPAM"
   ]
  },
  {
   "cell_type": "code",
   "execution_count": 50,
   "id": "433f1353",
   "metadata": {},
   "outputs": [
    {
     "data": {
      "text/plain": [
       "array([0, 0, 0, 0, 0, 1, 1, 1])"
      ]
     },
     "execution_count": 50,
     "metadata": {},
     "output_type": "execute_result"
    }
   ],
   "source": [
    "import numpy as np\n",
    "np.array([0]*5 + [1]*3)"
   ]
  },
  {
   "cell_type": "code",
   "execution_count": 30,
   "id": "4e00a04e",
   "metadata": {},
   "outputs": [],
   "source": [
    "%autoreload\n",
    "\n",
    "spam = SPAM(C, min_sup=0.05)"
   ]
  },
  {
   "cell_type": "code",
   "execution_count": 62,
   "id": "23aa6802",
   "metadata": {},
   "outputs": [
    {
     "name": "stdout",
     "output_type": "stream",
     "text": [
      "transformed repr = {'S_0': array([0, 0, 0]), 'S_1': array([0, 1]), 'S_2': array([0, 0])}\n",
      "input item bitmap = {'S_0': array([0, 0, 1]), 'S_1': array([1, 0]), 'S_2': array([0, 0])}\n",
      "\tS_step = {'S_0': array([0, 0, 0]), 'S_1': array([0, 0]), 'S_2': array([0, 0])}\n",
      "s = Bitmap: id=0, label=a0, bitmap={'S_0': array([0, 0, 1]), 'S_1': array([1, 0]), 'S_2': array([0, 0])}\n",
      "i = Bitmap: id=0, label=a0, bitmap={'S_0': array([0, 0, 1]), 'S_1': array([1, 0]), 'S_2': array([0, 0])}\n",
      "s_extended = Bitmap: id=None, label=a0a0, bitmap={'S_0': array([0, 0, 0]), 'S_1': array([0, 0]), 'S_2': array([0, 0])}\n",
      "transformed repr = {'S_0': array([0, 0, 0]), 'S_1': array([0, 1]), 'S_2': array([0, 0])}\n",
      "input item bitmap = {'S_0': array([0, 1, 0]), 'S_1': array([0, 0]), 'S_2': array([1, 0])}\n",
      "\tS_step = {'S_0': array([0, 0, 0]), 'S_1': array([0, 0]), 'S_2': array([0, 0])}\n",
      "s = Bitmap: id=0, label=a0, bitmap={'S_0': array([0, 0, 1]), 'S_1': array([1, 0]), 'S_2': array([0, 0])}\n",
      "i = Bitmap: id=1, label=a1, bitmap={'S_0': array([0, 1, 0]), 'S_1': array([0, 0]), 'S_2': array([1, 0])}\n",
      "s_extended = Bitmap: id=None, label=a0a1, bitmap={'S_0': array([0, 0, 0]), 'S_1': array([0, 0]), 'S_2': array([0, 0])}\n",
      "transformed repr = {'S_0': array([0, 0, 0]), 'S_1': array([0, 1]), 'S_2': array([0, 0])}\n",
      "input item bitmap = {'S_0': array([0, 0, 0]), 'S_1': array([0, 1]), 'S_2': array([0, 0])}\n",
      "\tS_step = {'S_0': array([0, 0, 0]), 'S_1': array([0, 1]), 'S_2': array([0, 0])}\n",
      "s = Bitmap: id=0, label=a0, bitmap={'S_0': array([0, 0, 1]), 'S_1': array([1, 0]), 'S_2': array([0, 0])}\n",
      "i = Bitmap: id=2, label=a15, bitmap={'S_0': array([0, 0, 0]), 'S_1': array([0, 1]), 'S_2': array([0, 0])}\n",
      "s_extended = Bitmap: id=None, label=a0a15, bitmap={'S_0': array([0, 0, 0]), 'S_1': array([0, 1]), 'S_2': array([0, 0])}\n",
      "transformed repr = {'S_0': array([0, 0, 0]), 'S_1': array([0, 1]), 'S_2': array([0, 0])}\n",
      "input item bitmap = {'S_0': array([1, 0, 0]), 'S_1': array([0, 0]), 'S_2': array([0, 1])}\n",
      "\tS_step = {'S_0': array([0, 0, 0]), 'S_1': array([0, 0]), 'S_2': array([0, 0])}\n",
      "s = Bitmap: id=0, label=a0, bitmap={'S_0': array([0, 0, 1]), 'S_1': array([1, 0]), 'S_2': array([0, 0])}\n",
      "i = Bitmap: id=3, label=a2, bitmap={'S_0': array([1, 0, 0]), 'S_1': array([0, 0]), 'S_2': array([0, 1])}\n",
      "s_extended = Bitmap: id=None, label=a0a2, bitmap={'S_0': array([0, 0, 0]), 'S_1': array([0, 0]), 'S_2': array([0, 0])}\n"
     ]
    },
    {
     "ename": "AttributeError",
     "evalue": "'tuple' object has no attribute 'id'",
     "output_type": "error",
     "traceback": [
      "\u001b[1;31m---------------------------------------------------------------------------\u001b[0m",
      "\u001b[1;31mAttributeError\u001b[0m                            Traceback (most recent call last)",
      "\u001b[1;32m<ipython-input-62-60aa49d72aa4>\u001b[0m in \u001b[0;36m<module>\u001b[1;34m\u001b[0m\n\u001b[0;32m      1\u001b[0m \u001b[0mget_ipython\u001b[0m\u001b[1;33m(\u001b[0m\u001b[1;33m)\u001b[0m\u001b[1;33m.\u001b[0m\u001b[0mrun_line_magic\u001b[0m\u001b[1;33m(\u001b[0m\u001b[1;34m'autoreload'\u001b[0m\u001b[1;33m,\u001b[0m \u001b[1;34m''\u001b[0m\u001b[1;33m)\u001b[0m\u001b[1;33m\u001b[0m\u001b[1;33m\u001b[0m\u001b[0m\n\u001b[0;32m      2\u001b[0m \u001b[1;33m\u001b[0m\u001b[0m\n\u001b[1;32m----> 3\u001b[1;33m \u001b[0mspam\u001b[0m\u001b[1;33m.\u001b[0m\u001b[0mprocess\u001b[0m\u001b[1;33m(\u001b[0m\u001b[1;33m)\u001b[0m\u001b[1;33m\u001b[0m\u001b[1;33m\u001b[0m\u001b[0m\n\u001b[0m",
      "\u001b[1;32m~\\Desktop\\These\\Travail\\Codes\\DataMining\\SequentialPatternMining\\spam\\spam.py\u001b[0m in \u001b[0;36mprocess\u001b[1;34m(self)\u001b[0m\n\u001b[0;32m     40\u001b[0m \u001b[1;33m\u001b[0m\u001b[0m\n\u001b[0;32m     41\u001b[0m             \u001b[1;31m# Depth-first search with pruning\u001b[0m\u001b[1;33m\u001b[0m\u001b[1;33m\u001b[0m\u001b[1;33m\u001b[0m\u001b[0m\n\u001b[1;32m---> 42\u001b[1;33m             \u001b[0mDFS_Pruning\u001b[0m\u001b[1;33m(\u001b[0m\u001b[0mself\u001b[0m\u001b[1;33m.\u001b[0m\u001b[0mitem_bitmaps\u001b[0m\u001b[1;33m[\u001b[0m\u001b[0mitem_index\u001b[0m\u001b[1;33m]\u001b[0m\u001b[1;33m,\u001b[0m \u001b[0mS_0\u001b[0m\u001b[1;33m,\u001b[0m \u001b[0mI_0\u001b[0m\u001b[1;33m,\u001b[0m \u001b[0mself\u001b[0m\u001b[1;33m.\u001b[0m\u001b[0mmin_sup\u001b[0m\u001b[1;33m)\u001b[0m\u001b[1;33m\u001b[0m\u001b[1;33m\u001b[0m\u001b[0m\n\u001b[0m\u001b[0;32m     43\u001b[0m \u001b[1;33m\u001b[0m\u001b[0m\n\u001b[0;32m     44\u001b[0m         \u001b[1;32mreturn\u001b[0m\u001b[1;33m\u001b[0m\u001b[1;33m\u001b[0m\u001b[0m\n",
      "\u001b[1;32m~\\Desktop\\These\\Travail\\Codes\\DataMining\\SequentialPatternMining\\spam\\dfs_pruning.py\u001b[0m in \u001b[0;36mDFS_Pruning\u001b[1;34m(s, S_n, I_n, min_sup)\u001b[0m\n\u001b[0;32m     34\u001b[0m     \u001b[1;32mfor\u001b[0m \u001b[0ms_extended\u001b[0m\u001b[1;33m,\u001b[0m \u001b[0mitem\u001b[0m \u001b[1;32min\u001b[0m \u001b[0mS_temp\u001b[0m\u001b[1;33m:\u001b[0m\u001b[1;33m\u001b[0m\u001b[1;33m\u001b[0m\u001b[0m\n\u001b[0;32m     35\u001b[0m \u001b[1;33m\u001b[0m\u001b[0m\n\u001b[1;32m---> 36\u001b[1;33m         I_children = [\n\u001b[0m\u001b[0;32m     37\u001b[0m             \u001b[0mj\u001b[0m \u001b[1;32mfor\u001b[0m \u001b[0mj\u001b[0m \u001b[1;32min\u001b[0m \u001b[0mS_temp\u001b[0m \u001b[1;32mif\u001b[0m \u001b[0mj\u001b[0m\u001b[1;33m.\u001b[0m\u001b[0mid\u001b[0m \u001b[1;33m>=\u001b[0m \u001b[0mitem\u001b[0m\u001b[1;33m.\u001b[0m\u001b[0mid\u001b[0m\u001b[1;33m\u001b[0m\u001b[1;33m\u001b[0m\u001b[0m\n\u001b[0;32m     38\u001b[0m         ]\n",
      "\u001b[1;32m~\\Desktop\\These\\Travail\\Codes\\DataMining\\SequentialPatternMining\\spam\\dfs_pruning.py\u001b[0m in \u001b[0;36m<listcomp>\u001b[1;34m(.0)\u001b[0m\n\u001b[0;32m     35\u001b[0m \u001b[1;33m\u001b[0m\u001b[0m\n\u001b[0;32m     36\u001b[0m         I_children = [\n\u001b[1;32m---> 37\u001b[1;33m             \u001b[0mj\u001b[0m \u001b[1;32mfor\u001b[0m \u001b[0mj\u001b[0m \u001b[1;32min\u001b[0m \u001b[0mS_temp\u001b[0m \u001b[1;32mif\u001b[0m \u001b[0mj\u001b[0m\u001b[1;33m.\u001b[0m\u001b[0mid\u001b[0m \u001b[1;33m>=\u001b[0m \u001b[0mitem\u001b[0m\u001b[1;33m.\u001b[0m\u001b[0mid\u001b[0m\u001b[1;33m\u001b[0m\u001b[1;33m\u001b[0m\u001b[0m\n\u001b[0m\u001b[0;32m     38\u001b[0m         ]\n\u001b[0;32m     39\u001b[0m \u001b[1;33m\u001b[0m\u001b[0m\n",
      "\u001b[1;31mAttributeError\u001b[0m: 'tuple' object has no attribute 'id'"
     ]
    }
   ],
   "source": [
    "%autoreload\n",
    "\n",
    "spam.process()"
   ]
  },
  {
   "cell_type": "code",
   "execution_count": 28,
   "id": "a93c9e16",
   "metadata": {},
   "outputs": [
    {
     "data": {
      "text/plain": [
       "True"
      ]
     },
     "execution_count": 28,
     "metadata": {},
     "output_type": "execute_result"
    }
   ],
   "source": [
    "'a0a1a3' <= 'a0a2'"
   ]
  },
  {
   "cell_type": "code",
   "execution_count": null,
   "id": "98ff439a",
   "metadata": {},
   "outputs": [],
   "source": []
  }
 ],
 "metadata": {
  "kernelspec": {
   "display_name": "Python 3",
   "language": "python",
   "name": "python3"
  },
  "language_info": {
   "codemirror_mode": {
    "name": "ipython",
    "version": 3
   },
   "file_extension": ".py",
   "mimetype": "text/x-python",
   "name": "python",
   "nbconvert_exporter": "python",
   "pygments_lexer": "ipython3",
   "version": "3.8.3"
  }
 },
 "nbformat": 4,
 "nbformat_minor": 5
}
